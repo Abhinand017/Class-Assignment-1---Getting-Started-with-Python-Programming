{
  "nbformat": 4,
  "nbformat_minor": 0,
  "metadata": {
    "colab": {
      "name": "Untitled4.ipynb",
      "provenance": [],
      "authorship_tag": "ABX9TyMpn/rXjIj8YdIC9g4llB2e",
      "include_colab_link": true
    },
    "kernelspec": {
      "name": "python3",
      "display_name": "Python 3"
    }
  },
  "cells": [
    {
      "cell_type": "markdown",
      "metadata": {
        "id": "view-in-github",
        "colab_type": "text"
      },
      "source": [
        "<a href=\"https://colab.research.google.com/github/Abhinand017/Class-Assignment-1---Getting-Started-with-Python-Programming/blob/master/Untitled4.ipynb\" target=\"_parent\"><img src=\"https://colab.research.google.com/assets/colab-badge.svg\" alt=\"Open In Colab\"/></a>"
      ]
    },
    {
      "cell_type": "code",
      "metadata": {
        "id": "ag-Ihd1DmtbL"
      },
      "source": [
        " \n",
        "def CountLetters(str, letter):\n",
        "    count=0\n",
        "    index=0\n",
        "    while index<len(str):\n",
        "       if letter==str[index]:\n",
        "          count=count+1\n",
        "       index=index+1\n",
        "    return count"
      ],
      "execution_count": 1,
      "outputs": []
    },
    {
      "cell_type": "code",
      "metadata": {
        "id": "hHKv-1B2m3LK",
        "outputId": "d12b59cd-39b3-4ddd-aed3-defecf02bbe6",
        "colab": {
          "base_uri": "https://localhost:8080/",
          "height": 34
        }
      },
      "source": [
        "CountLetters(\"Apple\",\"e\")"
      ],
      "execution_count": 2,
      "outputs": [
        {
          "output_type": "execute_result",
          "data": {
            "text/plain": [
              "1"
            ]
          },
          "metadata": {
            "tags": []
          },
          "execution_count": 2
        }
      ]
    },
    {
      "cell_type": "code",
      "metadata": {
        "id": "MOZLP673nAk5"
      },
      "source": [
        " \n",
        "def find(str,ch,index):\n",
        "  while index<len(str):\n",
        "    return index\n",
        "    index=index+1\n",
        "  return -1"
      ],
      "execution_count": 4,
      "outputs": []
    },
    {
      "cell_type": "code",
      "metadata": {
        "id": "G9VACeHOnIb0",
        "outputId": "b6255839-8b8e-4e04-fe36-b03fce95d32e",
        "colab": {
          "base_uri": "https://localhost:8080/",
          "height": 34
        }
      },
      "source": [
        "find(\"Apple\",\"p\",3)"
      ],
      "execution_count": 5,
      "outputs": [
        {
          "output_type": "execute_result",
          "data": {
            "text/plain": [
              "3"
            ]
          },
          "metadata": {
            "tags": []
          },
          "execution_count": 5
        }
      ]
    }
  ]
}