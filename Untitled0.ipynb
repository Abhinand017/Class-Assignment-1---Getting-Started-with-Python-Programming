{
  "nbformat": 4,
  "nbformat_minor": 0,
  "metadata": {
    "colab": {
      "name": "Untitled0.ipynb",
      "provenance": [],
      "authorship_tag": "ABX9TyM2HER3O1cthFNB5BbmXXEt",
      "include_colab_link": true
    },
    "kernelspec": {
      "name": "python3",
      "display_name": "Python 3"
    }
  },
  "cells": [
    {
      "cell_type": "markdown",
      "metadata": {
        "id": "view-in-github",
        "colab_type": "text"
      },
      "source": [
        "<a href=\"https://colab.research.google.com/github/Abhinand017/Class-Assignment-1---Getting-Started-with-Python-Programming/blob/master/Untitled0.ipynb\" target=\"_parent\"><img src=\"https://colab.research.google.com/assets/colab-badge.svg\" alt=\"Open In Colab\"/></a>"
      ]
    },
    {
      "cell_type": "markdown",
      "metadata": {
        "id": "ZfyleQBOLw20"
      },
      "source": [
        "2"
      ]
    },
    {
      "cell_type": "code",
      "metadata": {
        "id": "QiSzhidLL30y",
        "outputId": "b0f3abb7-70d8-4aa3-b8f0-e4e61abbaea2",
        "colab": {
          "base_uri": "https://localhost:8080/"
        }
      },
      "source": [
        "from math import pi\n",
        "r=float(input(\"Enter the radius\"))\n",
        "def volume (r):\n",
        "   return 4/3*(pi*r**3)\n",
        "print(\"Volume=\",volume (r))"
      ],
      "execution_count": 3,
      "outputs": [
        {
          "output_type": "stream",
          "text": [
            "Enter the radius3\n",
            "Volume= 113.09733552923254\n"
          ],
          "name": "stdout"
        }
      ]
    },
    {
      "cell_type": "markdown",
      "metadata": {
        "id": "1ixBhwjKNZlr"
      },
      "source": [
        "3"
      ]
    },
    {
      "cell_type": "code",
      "metadata": {
        "id": "uqkf_kdqPgVa",
        "outputId": "7aaf13bc-22c9-412c-98bc-b9eed575e37f",
        "colab": {
          "base_uri": "https://localhost:8080/"
        }
      },
      "source": [
        " s=0\n",
        "n=int(input(\"Enter the limit\"))\n",
        "def sum(n):\n",
        "   while n>0:\n",
        "      for i in range(n+1):\n",
        "         s=s+i\n",
        "         return s\n",
        "print (\"The sun is \",sum(s))"
      ],
      "execution_count": 14,
      "outputs": [
        {
          "output_type": "stream",
          "text": [
            "Enter the limit4\n",
            "The sun is  None\n"
          ],
          "name": "stdout"
        }
      ]
    },
    {
      "cell_type": "markdown",
      "metadata": {
        "id": "FPC-NyBQPnnB"
      },
      "source": [
        "4"
      ]
    },
    {
      "cell_type": "code",
      "metadata": {
        "id": "4_qbKkRpPpxp",
        "outputId": "32096745-1b5f-4dd4-da6e-8d4985833815",
        "colab": {
          "base_uri": "https://localhost:8080/"
        }
      },
      "source": [
        "n=int(input(\"Enter the number\"))\n",
        "square=lambda x:x**2\n",
        "print (square (n))"
      ],
      "execution_count": 15,
      "outputs": [
        {
          "output_type": "stream",
          "text": [
            "Enter the number5\n",
            "25\n"
          ],
          "name": "stdout"
        }
      ]
    },
    {
      "cell_type": "markdown",
      "metadata": {
        "id": "TV4GyOjlRe5C"
      },
      "source": [
        "6 a"
      ]
    },
    {
      "cell_type": "code",
      "metadata": {
        "id": "9kLWwDorRh6a",
        "outputId": "9599d311-1ea7-4c3a-ed77-d5e96ff2276a",
        "colab": {
          "base_uri": "https://localhost:8080/",
          "height": 350
        }
      },
      "source": [
        " def rev_no(n):\n",
        "   n=int(input(\"Enter the no:\"))\n",
        "   rev=0\n",
        "   rem=0\n",
        "   while(n>0):\n",
        "      rem=n%10\n",
        "      rev=(rev*10)+rem\n",
        "      sum=sum+rem\n",
        "      n=n//10\n",
        "print (\"Reverse of entered no.is\",rev)\n",
        "print (\"The sum of digits: \",sum)"
      ],
      "execution_count": 17,
      "outputs": [
        {
          "output_type": "error",
          "ename": "NameError",
          "evalue": "ignored",
          "traceback": [
            "\u001b[0;31m---------------------------------------------------------------------------\u001b[0m",
            "\u001b[0;31mNameError\u001b[0m                                 Traceback (most recent call last)",
            "\u001b[0;32m<ipython-input-17-57f2db34edd5>\u001b[0m in \u001b[0;36m<module>\u001b[0;34m()\u001b[0m\n\u001b[1;32m      8\u001b[0m      \u001b[0msum\u001b[0m\u001b[0;34m=\u001b[0m\u001b[0msum\u001b[0m\u001b[0;34m+\u001b[0m\u001b[0mrem\u001b[0m\u001b[0;34m\u001b[0m\u001b[0;34m\u001b[0m\u001b[0m\n\u001b[1;32m      9\u001b[0m      \u001b[0mn\u001b[0m\u001b[0;34m=\u001b[0m\u001b[0mn\u001b[0m\u001b[0;34m//\u001b[0m\u001b[0;36m10\u001b[0m\u001b[0;34m\u001b[0m\u001b[0;34m\u001b[0m\u001b[0m\n\u001b[0;32m---> 10\u001b[0;31m \u001b[0mprint\u001b[0m \u001b[0;34m(\u001b[0m\u001b[0;34m\"Reverse of entered no.is\"\u001b[0m\u001b[0;34m,\u001b[0m\u001b[0mrev\u001b[0m\u001b[0;34m)\u001b[0m\u001b[0;34m\u001b[0m\u001b[0;34m\u001b[0m\u001b[0m\n\u001b[0m\u001b[1;32m     11\u001b[0m \u001b[0mprint\u001b[0m \u001b[0;34m(\u001b[0m\u001b[0;34m\"The sum of digits: \"\u001b[0m\u001b[0;34m,\u001b[0m\u001b[0msum\u001b[0m\u001b[0;34m)\u001b[0m\u001b[0;34m\u001b[0m\u001b[0;34m\u001b[0m\u001b[0m\n",
            "\u001b[0;31mNameError\u001b[0m: name 'rev' is not defined"
          ]
        }
      ]
    },
    {
      "cell_type": "markdown",
      "metadata": {
        "id": "8vXTqUvdTVBn"
      },
      "source": [
        "6 b"
      ]
    },
    {
      "cell_type": "code",
      "metadata": {
        "id": "ZQUVjyyOTYkU",
        "outputId": "f81aa4eb-3f7c-4675-b906-2c32c7828664",
        "colab": {
          "base_uri": "https://localhost:8080/",
          "height": 146
        }
      },
      "source": [
        " \n",
        "n=int(input(\"Enter the number\")\n",
        "def factorial(n):\n",
        "  if n==1:\n",
        "     return n\n",
        "  else:\n",
        "     return n*factorial (n-1)\n",
        "print (\"The factorial of\",n,\"is\", factorial(n))"
      ],
      "execution_count": 23,
      "outputs": [
        {
          "output_type": "error",
          "ename": "SyntaxError",
          "evalue": "ignored",
          "traceback": [
            "\u001b[0;36m  File \u001b[0;32m\"<ipython-input-23-bb40ce87f13c>\"\u001b[0;36m, line \u001b[0;32m3\u001b[0m\n\u001b[0;31m    def factorial(n):\u001b[0m\n\u001b[0m      ^\u001b[0m\n\u001b[0;31mSyntaxError\u001b[0m\u001b[0;31m:\u001b[0m invalid syntax\n"
          ]
        }
      ]
    },
    {
      "cell_type": "markdown",
      "metadata": {
        "id": "T5e-T0xPR1Vb"
      },
      "source": [
        "7"
      ]
    },
    {
      "cell_type": "code",
      "metadata": {
        "id": "xbCz_Q6qR40D"
      },
      "source": [
        "str=input (\"Enter the string\")\n",
        "word=input(\"Enter the word to be searched\")\n",
        "print(str.count(word))"
      ],
      "execution_count": null,
      "outputs": []
    },
    {
      "cell_type": "markdown",
      "metadata": {
        "id": "1zbWV37LTAmz"
      },
      "source": [
        ""
      ]
    }
  ]
}